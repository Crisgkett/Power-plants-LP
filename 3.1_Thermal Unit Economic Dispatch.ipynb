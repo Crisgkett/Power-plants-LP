{
 "cells": [
  {
   "cell_type": "code",
   "execution_count": 2,
   "metadata": {},
   "outputs": [],
   "source": [
    "import numpy as np\n",
    "import pandas as pd\n",
    "\n",
    "import gurobipy as gp\n",
    "from gurobipy import GRB\n",
    "\n",
    "# tested with Python 3.7.0 & Gurobi 9.0"
   ]
  },
  {
   "cell_type": "code",
   "execution_count": 3,
   "metadata": {},
   "outputs": [],
   "source": [
    "# Parametros\n",
    "\n",
    "g = 5\n",
    "\n",
    "# Costos\n",
    "\n",
    "a = [3, 4.05, 4.05, 3.99, 3.88]\n",
    "b = [20, 18.07, 15.55, 19.21, 26.18]\n",
    "c = [100, 98.87, 104,26, 107.21, 95.31]\n",
    "\n",
    "# Emisiones\n",
    "\n",
    "d = [2, 3.82, 5.01, 1.10, 3.55]\n",
    "e = [-5, -4.24, -2.15, -3.99, -6.88]\n",
    "f = [3, 6.09, 5.69, 6.20, 5.57]\n",
    "\n",
    "# Potencias\n",
    "\n",
    "Pmin = [28, 90, 68, 76, 19]\n",
    "Pmax = [206, 284, 189, 266, 53]\n"
   ]
  },
  {
   "cell_type": "code",
   "execution_count": 4,
   "metadata": {},
   "outputs": [
    {
     "name": "stdout",
     "output_type": "stream",
     "text": [
      "Academic license - for non-commercial use only - expires 2021-05-28\n",
      "Using license file C:\\Users\\56982\\gurobi.lic\n"
     ]
    }
   ],
   "source": [
    "model = gp.Model('Generación Térmica')\n",
    "\n",
    "# Variable de desición\n",
    "potgen = model.addVars(g, vtype=GRB.CONTINUOUS, name=\"potgen\")"
   ]
  },
  {
   "cell_type": "code",
   "execution_count": 5,
   "metadata": {},
   "outputs": [],
   "source": [
    "# Restricción de potencias\n",
    "\n",
    "p_min = model.addConstrs((potgen[type] >= Pmin[type])\n",
    "                              for type in range(g))\n",
    "\n",
    "p_max = model.addConstrs((potgen[type] <= Pmax[type])\n",
    "                              for type in range(g))"
   ]
  },
  {
   "cell_type": "code",
   "execution_count": 6,
   "metadata": {
    "scrolled": true
   },
   "outputs": [],
   "source": [
    "# Satisfacer la demanda\n",
    "\n",
    "demanda = model.addConstr(gp.quicksum(potgen[type]  for type in range(g)) >= 400)"
   ]
  },
  {
   "cell_type": "code",
   "execution_count": 7,
   "metadata": {},
   "outputs": [],
   "source": [
    "# Minimizar costos\n",
    "\n",
    "costos = gp.quicksum(a[type]*potgen[type]*potgen[type]+b[type]*potgen[type]+c[type]\n",
    "                    for type in range(g))\n",
    "\n",
    "# emisiones = gp.quicksum(d[type]*potgen[type]+e[type]*potgen[type]+f[type]*potgen[type]\n",
    "                  #  for type in range(g))\n",
    "\n"
   ]
  },
  {
   "cell_type": "code",
   "execution_count": 8,
   "metadata": {},
   "outputs": [],
   "source": [
    "# Restricción de emisiones\n",
    "\n",
    "# r_emisones = model.addConstr(emisiones <= 90000)"
   ]
  },
  {
   "cell_type": "code",
   "execution_count": 9,
   "metadata": {},
   "outputs": [],
   "source": [
    "model.setObjective(costos) #+ emisiones)"
   ]
  },
  {
   "cell_type": "code",
   "execution_count": 10,
   "metadata": {},
   "outputs": [
    {
     "name": "stdout",
     "output_type": "stream",
     "text": [
      "Gurobi Optimizer version 9.1.1 build v9.1.1rc0 (win64)\n",
      "Thread count: 2 physical cores, 4 logical processors, using up to 4 threads\n",
      "Optimize a model with 11 rows, 5 columns and 15 nonzeros\n",
      "Model fingerprint: 0x58dd521b\n",
      "Model has 5 quadratic objective terms\n",
      "Coefficient statistics:\n",
      "  Matrix range     [1e+00, 1e+00]\n",
      "  Objective range  [2e+01, 3e+01]\n",
      "  QObjective range [6e+00, 8e+00]\n",
      "  Bounds range     [0e+00, 0e+00]\n",
      "  RHS range        [2e+01, 4e+02]\n",
      "Presolve removed 10 rows and 0 columns\n",
      "Presolve time: 0.01s\n",
      "Presolved: 1 rows, 5 columns, 5 nonzeros\n",
      "Presolved model has 5 quadratic objective terms\n",
      "Ordering time: 0.00s\n",
      "\n",
      "Barrier statistics:\n",
      " AA' NZ     : 0.000e+00\n",
      " Factor NZ  : 1.000e+00\n",
      " Factor Ops : 1.000e+00 (less than 1 second per iteration)\n",
      " Threads    : 1\n",
      "\n",
      "                  Objective                Residual\n",
      "Iter       Primal          Dual         Primal    Dual     Compl     Time\n",
      "   0   2.34599244e+06 -3.96232884e+06  7.95e+02 4.99e+02  1.30e+06     0s\n",
      "   1   3.54147250e+05 -1.42369431e+06  0.00e+00 4.99e-04  1.62e+05     0s\n",
      "   2   2.16691499e+05  5.23077420e+04  0.00e+00 2.22e-05  1.49e+04     0s\n",
      "   3   1.39901286e+05  1.12631542e+05  0.00e+00 9.37e-07  2.48e+03     0s\n",
      "   4   1.33844241e+05  1.26081431e+05  0.00e+00 1.75e-07  7.06e+02     0s\n",
      "   5   1.32063497e+05  1.30460617e+05  0.00e+00 1.89e-13  1.46e+02     0s\n",
      "   6   1.31428230e+05  1.31332695e+05  0.00e+00 1.42e-14  8.68e+00     0s\n",
      "   7   1.31386186e+05  1.31380340e+05  0.00e+00 1.42e-14  5.31e-01     0s\n",
      "   8   1.31385433e+05  1.31385270e+05  0.00e+00 0.00e+00  1.49e-02     0s\n",
      "   9   1.31385430e+05  1.31385430e+05  0.00e+00 1.42e-14  1.60e-05     0s\n",
      "  10   1.31385430e+05  1.31385430e+05  0.00e+00 1.07e-14  1.60e-08     0s\n",
      "  11   1.31385430e+05  1.31385430e+05  0.00e+00 1.15e-14  1.60e-11     0s\n",
      "\n",
      "Barrier solved model in 11 iterations and 0.03 seconds\n",
      "Optimal objective 1.31385430e+05\n",
      "\n"
     ]
    }
   ],
   "source": [
    "model.write('cgk3_1.lp')\n",
    "model.optimize()"
   ]
  },
  {
   "cell_type": "code",
   "execution_count": 11,
   "metadata": {},
   "outputs": [
    {
     "data": {
      "text/html": [
       "<div>\n",
       "<style scoped>\n",
       "    .dataframe tbody tr th:only-of-type {\n",
       "        vertical-align: middle;\n",
       "    }\n",
       "\n",
       "    .dataframe tbody tr th {\n",
       "        vertical-align: top;\n",
       "    }\n",
       "\n",
       "    .dataframe thead th {\n",
       "        text-align: right;\n",
       "    }\n",
       "</style>\n",
       "<table border=\"1\" class=\"dataframe\">\n",
       "  <thead>\n",
       "    <tr style=\"text-align: right;\">\n",
       "      <th></th>\n",
       "      <th>0</th>\n",
       "    </tr>\n",
       "  </thead>\n",
       "  <tbody>\n",
       "    <tr>\n",
       "      <th>Potencia0</th>\n",
       "      <td>102.844226</td>\n",
       "    </tr>\n",
       "    <tr>\n",
       "      <th>Potencia1</th>\n",
       "      <td>90.000000</td>\n",
       "    </tr>\n",
       "    <tr>\n",
       "      <th>Potencia2</th>\n",
       "      <td>76.730291</td>\n",
       "    </tr>\n",
       "    <tr>\n",
       "      <th>Potencia3</th>\n",
       "      <td>77.425483</td>\n",
       "    </tr>\n",
       "    <tr>\n",
       "      <th>Potencia4</th>\n",
       "      <td>53.000000</td>\n",
       "    </tr>\n",
       "  </tbody>\n",
       "</table>\n",
       "</div>"
      ],
      "text/plain": [
       "                    0\n",
       "Potencia0  102.844226\n",
       "Potencia1   90.000000\n",
       "Potencia2   76.730291\n",
       "Potencia3   77.425483\n",
       "Potencia4   53.000000"
      ]
     },
     "execution_count": 11,
     "metadata": {},
     "output_type": "execute_result"
    }
   ],
   "source": [
    "rows = [\"Potencia\" + str(t) for t in range(g)]\n",
    "units = pd.DataFrame(columns=range(1), index=rows, data=0.0)\n",
    "\n",
    "for t in range(g):\n",
    "            units.loc[\"Potencia\"+str(t)] = potgen[t].x\n",
    "units"
   ]
  },
  {
   "cell_type": "code",
   "execution_count": 12,
   "metadata": {},
   "outputs": [
    {
     "data": {
      "text/html": [
       "<div>\n",
       "<style scoped>\n",
       "    .dataframe tbody tr th:only-of-type {\n",
       "        vertical-align: middle;\n",
       "    }\n",
       "\n",
       "    .dataframe tbody tr th {\n",
       "        vertical-align: top;\n",
       "    }\n",
       "\n",
       "    .dataframe thead th {\n",
       "        text-align: right;\n",
       "    }\n",
       "</style>\n",
       "<table border=\"1\" class=\"dataframe\">\n",
       "  <thead>\n",
       "    <tr style=\"text-align: right;\">\n",
       "      <th></th>\n",
       "      <th>0</th>\n",
       "    </tr>\n",
       "  </thead>\n",
       "  <tbody>\n",
       "    <tr>\n",
       "      <th>Emisiones0</th>\n",
       "      <td>20642.648501</td>\n",
       "    </tr>\n",
       "    <tr>\n",
       "      <th>Emisiones1</th>\n",
       "      <td>30566.490000</td>\n",
       "    </tr>\n",
       "    <tr>\n",
       "      <th>Emisiones2</th>\n",
       "      <td>29337.282914</td>\n",
       "    </tr>\n",
       "    <tr>\n",
       "      <th>Emisiones3</th>\n",
       "      <td>6291.448313</td>\n",
       "    </tr>\n",
       "    <tr>\n",
       "      <th>Emisiones4</th>\n",
       "      <td>9612.880000</td>\n",
       "    </tr>\n",
       "  </tbody>\n",
       "</table>\n",
       "</div>"
      ],
      "text/plain": [
       "                       0\n",
       "Emisiones0  20642.648501\n",
       "Emisiones1  30566.490000\n",
       "Emisiones2  29337.282914\n",
       "Emisiones3   6291.448313\n",
       "Emisiones4   9612.880000"
      ]
     },
     "execution_count": 12,
     "metadata": {},
     "output_type": "execute_result"
    }
   ],
   "source": [
    "rows = [\"Emisiones\" + str(t) for t in range(g)]\n",
    "units = pd.DataFrame(columns=range(1), index=rows, data=0.0)\n",
    "\n",
    "for t in range(g):\n",
    "            units.loc[\"Emisiones\"+str(t)] = d[t]*potgen[t].x*potgen[t].x+e[t]*potgen[t].x+f[t]\n",
    "units"
   ]
  },
  {
   "cell_type": "code",
   "execution_count": null,
   "metadata": {},
   "outputs": [],
   "source": []
  },
  {
   "cell_type": "code",
   "execution_count": null,
   "metadata": {},
   "outputs": [],
   "source": []
  }
 ],
 "metadata": {
  "kernelspec": {
   "display_name": "Python 3",
   "language": "python",
   "name": "python3"
  },
  "language_info": {
   "codemirror_mode": {
    "name": "ipython",
    "version": 3
   },
   "file_extension": ".py",
   "mimetype": "text/x-python",
   "name": "python",
   "nbconvert_exporter": "python",
   "pygments_lexer": "ipython3",
   "version": "3.8.5"
  }
 },
 "nbformat": 4,
 "nbformat_minor": 4
}
