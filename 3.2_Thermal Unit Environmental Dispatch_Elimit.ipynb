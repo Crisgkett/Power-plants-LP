{
 "cells": [
  {
   "cell_type": "code",
   "execution_count": 16,
   "metadata": {},
   "outputs": [],
   "source": [
    "import numpy as np\n",
    "import pandas as pd\n",
    "\n",
    "import gurobipy as gp\n",
    "from gurobipy import GRB\n",
    "\n",
    "# tested with Python 3.7.0 & Gurobi 9.0"
   ]
  },
  {
   "cell_type": "code",
   "execution_count": 17,
   "metadata": {},
   "outputs": [],
   "source": [
    "# Parametros\n",
    "\n",
    "g = 5\n",
    "\n",
    "# Costos\n",
    "\n",
    "a = [3, 4.05, 4.05, 3.99, 3.88]\n",
    "b = [20, 18.07, 15.55, 19.21, 26.18]\n",
    "c = [100, 98.87, 104,26, 107.21, 95.31]\n",
    "\n",
    "# Emisiones\n",
    "\n",
    "d = [2, 3.82, 5.01, 1.10, 3.55]\n",
    "e = [-5, -4.24, -2.15, -3.99, -6.88]\n",
    "f = [3, 6.09, 5.69, 6.20, 5.57]\n",
    "\n",
    "# Potencias\n",
    "\n",
    "Pmin = [28, 90, 68, 76, 19]\n",
    "Pmax = [206, 284, 189, 266, 53]\n"
   ]
  },
  {
   "cell_type": "code",
   "execution_count": 18,
   "metadata": {},
   "outputs": [],
   "source": [
    "model = gp.Model('Generación Térmica ambiental')\n",
    "# Variables de desición\n",
    "potgen = model.addVars(g, vtype=GRB.CONTINUOUS, name=\"potgen\")\n",
    "emigen = model.addVars(g, vtype=GRB.CONTINUOUS, name=\"emigen\")"
   ]
  },
  {
   "cell_type": "code",
   "execution_count": 19,
   "metadata": {},
   "outputs": [],
   "source": [
    "# Restricción de potencias\n",
    "\n",
    "p_min = model.addConstrs((potgen[type] >= Pmin[type])\n",
    "                              for type in range(g))\n",
    "\n",
    "p_max = model.addConstrs((potgen[type] <= Pmax[type])\n",
    "                              for type in range(g))"
   ]
  },
  {
   "cell_type": "code",
   "execution_count": 20,
   "metadata": {
    "scrolled": true
   },
   "outputs": [],
   "source": [
    "# Satisfacer la demanda\n",
    "\n",
    "demanda = model.addConstr(gp.quicksum(potgen[type]  for type in range(g)) >= 400)"
   ]
  },
  {
   "cell_type": "code",
   "execution_count": 21,
   "metadata": {},
   "outputs": [],
   "source": [
    "#Restricción de emisiones\n",
    "\n",
    "r_emisones = model.addConstr(gp.quicksum(d[type]*potgen[type]*potgen[type]+e[type]*potgen[type]+f[type]\n",
    "                   for type in range(g)) <= 90000)"
   ]
  },
  {
   "cell_type": "code",
   "execution_count": 22,
   "metadata": {},
   "outputs": [],
   "source": [
    "# Minimizar costos\n",
    "\n",
    "costos = gp.quicksum(a[type]*potgen[type]*potgen[type]+b[type]*potgen[type]+c[type]\n",
    "                    for type in range(g))\n",
    "\n",
    "model.setObjective(costos)"
   ]
  },
  {
   "cell_type": "code",
   "execution_count": 23,
   "metadata": {},
   "outputs": [
    {
     "name": "stdout",
     "output_type": "stream",
     "text": [
      "Warning: Q constraint 0 doesn't have a name\n",
      "Gurobi Optimizer version 9.1.1 build v9.1.1rc0 (win64)\n",
      "Thread count: 2 physical cores, 4 logical processors, using up to 4 threads\n",
      "Optimize a model with 11 rows, 10 columns and 15 nonzeros\n",
      "Model fingerprint: 0xfc217e8e\n",
      "Model has 5 quadratic objective terms\n",
      "Model has 1 quadratic constraint\n",
      "Coefficient statistics:\n",
      "  Matrix range     [1e+00, 1e+00]\n",
      "  QMatrix range    [1e+00, 5e+00]\n",
      "  QLMatrix range   [2e+00, 7e+00]\n",
      "  Objective range  [2e+01, 3e+01]\n",
      "  QObjective range [6e+00, 8e+00]\n",
      "  Bounds range     [0e+00, 0e+00]\n",
      "  RHS range        [2e+01, 4e+02]\n",
      "  QRHS range       [9e+04, 9e+04]\n",
      "Presolve removed 10 rows and 5 columns\n",
      "Presolve time: 0.01s\n",
      "Presolved: 19 rows, 14 columns, 35 nonzeros\n",
      "Presolved model has 2 second-order cone constraints\n",
      "Ordering time: 0.00s\n",
      "\n",
      "Barrier statistics:\n",
      " Dense cols : 1\n",
      " AA' NZ     : 8.000e+01\n",
      " Factor NZ  : 1.920e+02\n",
      " Factor Ops : 2.474e+03 (less than 1 second per iteration)\n",
      " Threads    : 1\n",
      "\n",
      "                  Objective                Residual\n",
      "Iter       Primal          Dual         Primal    Dual     Compl     Time\n",
      "   0  -2.19376058e+05 -2.19376058e+05  4.64e+04 3.03e+00  7.61e+04     0s\n",
      "   1  -9.38408610e+04  4.31900501e+03  9.40e+03 1.82e-01  1.20e+04     0s\n",
      "   2   5.35688840e+03  1.19622994e+03  2.69e+02 2.00e-07  6.04e+02     0s\n",
      "   3   8.98564356e+03  8.03950297e+03  7.70e+01 3.04e-13  1.67e+02     0s\n",
      "   4   1.37791229e+04  6.34528627e+03  2.35e+01 2.25e-11  3.46e+02     0s\n",
      "   5   1.49404734e+04  8.22914164e+03  1.80e+01 2.23e-10  2.91e+02     0s\n",
      "   6   1.64138123e+04  1.64991375e+04  1.68e+01 1.96e-10  1.84e+02     0s\n",
      "   7   2.08521304e+04  2.66276815e+04  9.11e+00 8.56e-10  6.62e+01     0s\n",
      "   8   2.50812923e+04  3.18860825e+04  6.27e+00 1.11e-08  6.14e+01     0s\n",
      "   9   2.81760088e+04  3.76482925e+04  5.16e+00 5.42e-08  5.34e+01     0s\n",
      "  10   3.19823732e+04  4.34614497e+04  4.13e+00 2.00e-07  4.67e+01     0s\n",
      "  11   3.51202965e+04  4.96352195e+04  3.74e+00 3.29e-07  7.13e+01     0s\n",
      "  12   4.06873197e+04  5.26541601e+04  3.01e+00 1.38e-07  1.60e+02     0s\n",
      "  13   5.06594234e+04  4.62574417e+04  2.22e+00 6.56e-07  6.10e+02     0s\n",
      "  14   5.80682177e+04  6.23734089e+04  1.75e+00 3.32e-07  5.46e+02     0s\n",
      "  15   6.76669220e+04  7.66801386e+04  1.29e+00 3.24e-07  5.16e+02     0s\n",
      "  16   8.88152436e+04  9.28121630e+04  7.80e-01 8.96e-07  7.94e+02     0s\n",
      "  17   1.08967821e+05  1.09435199e+05  4.79e-01 1.05e-05  1.21e+03     0s\n",
      "  18   1.18022273e+05  1.19189843e+05  3.12e-01 9.51e-06  1.02e+03     0s\n",
      "  19   1.21330822e+05  1.24528740e+05  2.20e-01 6.23e-05  7.28e+02     0s\n",
      "  20   1.26066045e+05  1.30447901e+05  1.28e-01 1.96e-04  4.41e+02     0s\n",
      "  21   1.28853587e+05  1.31187893e+05  6.39e-02 1.05e-03  2.21e+02     0s\n",
      "  22   1.29888088e+05  1.32094063e+05  4.02e-02 4.14e-03  1.29e+02     0s\n",
      "  23   1.31154752e+05  1.32542349e+05  1.93e-02 4.77e-03  5.67e+01     0s\n",
      "  24   1.31941754e+05  1.32726759e+05  9.57e-03 1.13e-06  2.75e+01     0s\n",
      "  25   1.32646821e+05  1.32831196e+05  2.74e-03 9.93e-07  1.01e+01     0s\n",
      "  26   1.33085010e+05  1.33088978e+05  2.79e-04 1.22e-05  1.87e+00     0s\n",
      "  27   1.33112316e+05  1.33113045e+05  7.22e-05 5.40e-07  5.12e-01     0s\n",
      "  28   1.33120448e+05  1.33119154e+05  2.47e-06 3.05e-06  7.06e-02     0s\n",
      "  29   1.33120531e+05  1.33120491e+05  9.93e-07 1.02e-05  3.38e-03     0s\n",
      "  30   1.33120563e+05  1.33120562e+05  1.75e-05 7.26e-03  5.66e-05     0s\n",
      "  31   1.33120527e+05  1.33120562e+05  2.03e-02 5.04e-03  5.61e-05     0s\n",
      "  32   1.33120527e+05  1.33120562e+05  4.21e-02 6.21e-03  5.60e-05     0s\n",
      "  33   1.33120630e+05  1.33120562e+05  8.74e-02 2.14e-02  5.58e-05     0s\n",
      "  34   1.33120529e+05  1.33120562e+05  3.30e-02 5.02e-02  5.37e-05     0s\n",
      "  35   1.33120530e+05  1.33120562e+05  1.81e-03 1.78e-02  5.36e-05     0s\n",
      "  36   1.33120524e+05  1.33120562e+05  1.96e-02 4.53e-02  5.36e-05     0s\n",
      "  37   1.33120550e+05  1.33120562e+05  2.61e-02 4.59e-02  4.23e-05     0s\n",
      "  38   1.33120659e+05  1.33120562e+05  5.31e-02 8.50e-02  4.11e-05     0s\n",
      "  39   1.33120652e+05  1.33120562e+05  1.23e-02 1.62e-01  3.67e-05     0s\n",
      "  40   1.33120644e+05  1.33120562e+05  1.87e-02 5.57e-02  3.40e-05     0s\n",
      "  41   1.33120634e+05  1.33120562e+05  4.76e-02 1.65e-01  3.23e-05     0s\n",
      "  42   1.33120701e+05  1.33120562e+05  6.62e-03 9.90e-02  3.14e-05     0s\n",
      "  43   1.33120684e+05  1.33120562e+05  2.49e-02 2.45e-01  2.74e-05     0s\n",
      "  44   1.33121415e+05  1.33120562e+05  1.77e-02 2.95e-01  2.56e-05     0s\n",
      "  45   1.33121507e+05  1.33120562e+05  1.23e-03 5.89e-01  2.53e-05     0s\n",
      "  46   1.33121513e+05  1.33120562e+05  1.50e-02 7.02e-01  2.47e-05     0s\n",
      "  47   1.33121514e+05  1.33120562e+05  4.35e-02 7.52e-01  2.44e-05     0s\n",
      "  48   1.33121354e+05  1.33120562e+05  3.08e-03 3.98e-01  2.18e-05     0s\n",
      "  49   1.33121347e+05  1.33120562e+05  2.51e-02 4.06e-01  2.14e-05     0s\n",
      "  50   1.33121343e+05  1.33120562e+05  4.96e-02 1.85e-01  2.12e-05     0s\n",
      "  51   1.33121312e+05  1.33120562e+05  9.27e-02 3.20e-01  2.08e-05     0s\n",
      "  52   1.33120746e+05  1.33120562e+05  1.52e-02 5.57e-01  2.01e-05     0s\n",
      "  53   1.33120732e+05  1.33120562e+05  3.54e-02 1.14e+00  1.98e-05     0s\n",
      "  54   1.33120693e+05  1.33120562e+05  7.11e-02 1.88e+00  1.91e-05     0s\n",
      "  55   1.33120001e+05  1.33120562e+05  2.31e-02 1.15e+00  1.35e-05     0s\n",
      "  56   1.33120417e+05  1.33120562e+05  1.99e-02 2.43e+00  5.97e-06     0s\n",
      "  57   1.33120437e+05  1.33120562e+05  9.19e-04 2.45e+00  5.97e-06     0s\n",
      "  58   1.33120442e+05  1.33120562e+05  2.16e-02 4.12e+00  5.97e-06     0s\n",
      "  59   1.33120435e+05  1.33120562e+05  3.47e-02 9.09e+00  5.97e-06     0s\n",
      "  60   1.33120449e+05  1.33120562e+05  6.69e-03 1.04e+01  5.97e-06     0s\n",
      "  61   1.33120450e+05  1.33120562e+05  1.41e-02 1.40e+01  5.96e-06     0s\n",
      "  62   1.33120452e+05  1.33120562e+05  8.11e-03 1.05e+01  5.96e-06     0s\n",
      "  63   1.33120452e+05  1.33120562e+05  2.76e-02 1.04e+01  5.96e-06     0s\n",
      "  64   1.33120459e+05  1.33120562e+05  5.89e-02 1.19e+01  5.95e-06     0s\n",
      "  65   1.33120455e+05  1.33120562e+05  9.45e-03 3.08e+01  5.95e-06     0s\n",
      "  66   1.33120456e+05  1.33120562e+05  2.33e-02 4.85e+01  5.95e-06     0s\n",
      "\n",
      "Barrier performed 66 iterations in 0.10 seconds\n",
      "Sub-optimal termination - objective 1.33112316e+05\n",
      "\n"
     ]
    }
   ],
   "source": [
    "model.write('cgk3_2_ELI.lp')\n",
    "model.optimize()"
   ]
  },
  {
   "cell_type": "code",
   "execution_count": 24,
   "metadata": {},
   "outputs": [
    {
     "data": {
      "text/html": [
       "<div>\n",
       "<style scoped>\n",
       "    .dataframe tbody tr th:only-of-type {\n",
       "        vertical-align: middle;\n",
       "    }\n",
       "\n",
       "    .dataframe tbody tr th {\n",
       "        vertical-align: top;\n",
       "    }\n",
       "\n",
       "    .dataframe thead th {\n",
       "        text-align: right;\n",
       "    }\n",
       "</style>\n",
       "<table border=\"1\" class=\"dataframe\">\n",
       "  <thead>\n",
       "    <tr style=\"text-align: right;\">\n",
       "      <th></th>\n",
       "      <th>0</th>\n",
       "    </tr>\n",
       "  </thead>\n",
       "  <tbody>\n",
       "    <tr>\n",
       "      <th>Potencia0</th>\n",
       "      <td>94.212042</td>\n",
       "    </tr>\n",
       "    <tr>\n",
       "      <th>Potencia1</th>\n",
       "      <td>90.000170</td>\n",
       "    </tr>\n",
       "    <tr>\n",
       "      <th>Potencia2</th>\n",
       "      <td>68.000388</td>\n",
       "    </tr>\n",
       "    <tr>\n",
       "      <th>Potencia3</th>\n",
       "      <td>94.788677</td>\n",
       "    </tr>\n",
       "    <tr>\n",
       "      <th>Potencia4</th>\n",
       "      <td>52.998781</td>\n",
       "    </tr>\n",
       "  </tbody>\n",
       "</table>\n",
       "</div>"
      ],
      "text/plain": [
       "                   0\n",
       "Potencia0  94.212042\n",
       "Potencia1  90.000170\n",
       "Potencia2  68.000388\n",
       "Potencia3  94.788677\n",
       "Potencia4  52.998781"
      ]
     },
     "execution_count": 24,
     "metadata": {},
     "output_type": "execute_result"
    }
   ],
   "source": [
    "rows = [\"Potencia\" + str(t) for t in range(g)]\n",
    "units = pd.DataFrame(columns=range(1), index=rows, data=0.0)\n",
    "\n",
    "for t in range(g):\n",
    "            units.loc[\"Potencia\"+str(t)] = potgen[t].x\n",
    "units"
   ]
  },
  {
   "cell_type": "code",
   "execution_count": 25,
   "metadata": {},
   "outputs": [
    {
     "data": {
      "text/html": [
       "<div>\n",
       "<style scoped>\n",
       "    .dataframe tbody tr th:only-of-type {\n",
       "        vertical-align: middle;\n",
       "    }\n",
       "\n",
       "    .dataframe tbody tr th {\n",
       "        vertical-align: top;\n",
       "    }\n",
       "\n",
       "    .dataframe thead th {\n",
       "        text-align: right;\n",
       "    }\n",
       "</style>\n",
       "<table border=\"1\" class=\"dataframe\">\n",
       "  <thead>\n",
       "    <tr style=\"text-align: right;\">\n",
       "      <th></th>\n",
       "      <th>0</th>\n",
       "    </tr>\n",
       "  </thead>\n",
       "  <tbody>\n",
       "    <tr>\n",
       "      <th>Emisiones0</th>\n",
       "      <td>17283.757641</td>\n",
       "    </tr>\n",
       "    <tr>\n",
       "      <th>Emisiones1</th>\n",
       "      <td>30566.605855</td>\n",
       "    </tr>\n",
       "    <tr>\n",
       "      <th>Emisiones2</th>\n",
       "      <td>23025.993703</td>\n",
       "    </tr>\n",
       "    <tr>\n",
       "      <th>Emisiones3</th>\n",
       "      <td>9511.375713</td>\n",
       "    </tr>\n",
       "    <tr>\n",
       "      <th>Emisiones4</th>\n",
       "      <td>9612.429707</td>\n",
       "    </tr>\n",
       "  </tbody>\n",
       "</table>\n",
       "</div>"
      ],
      "text/plain": [
       "                       0\n",
       "Emisiones0  17283.757641\n",
       "Emisiones1  30566.605855\n",
       "Emisiones2  23025.993703\n",
       "Emisiones3   9511.375713\n",
       "Emisiones4   9612.429707"
      ]
     },
     "execution_count": 25,
     "metadata": {},
     "output_type": "execute_result"
    }
   ],
   "source": [
    "rows = [\"Emisiones\" + str(t) for t in range(g)]\n",
    "units = pd.DataFrame(columns=range(1), index=rows, data=0.0)\n",
    "\n",
    "for t in range(g):\n",
    "            units.loc[\"Emisiones\"+str(t)] = d[t]*potgen[t].x*potgen[t].x+e[t]*potgen[t].x+f[t]\n",
    "units\n",
    "\n",
    "\n",
    "\n"
   ]
  },
  {
   "cell_type": "code",
   "execution_count": null,
   "metadata": {},
   "outputs": [],
   "source": []
  },
  {
   "cell_type": "code",
   "execution_count": null,
   "metadata": {},
   "outputs": [],
   "source": []
  }
 ],
 "metadata": {
  "kernelspec": {
   "display_name": "Python 3",
   "language": "python",
   "name": "python3"
  },
  "language_info": {
   "codemirror_mode": {
    "name": "ipython",
    "version": 3
   },
   "file_extension": ".py",
   "mimetype": "text/x-python",
   "name": "python",
   "nbconvert_exporter": "python",
   "pygments_lexer": "ipython3",
   "version": "3.8.5"
  }
 },
 "nbformat": 4,
 "nbformat_minor": 4
}
