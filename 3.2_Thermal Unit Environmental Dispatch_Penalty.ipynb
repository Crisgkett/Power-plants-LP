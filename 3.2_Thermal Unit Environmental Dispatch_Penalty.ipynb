{
 "cells": [
  {
   "cell_type": "code",
   "execution_count": 10,
   "metadata": {},
   "outputs": [],
   "source": [
    "import numpy as np\n",
    "import pandas as pd\n",
    "\n",
    "import gurobipy as gp\n",
    "from gurobipy import GRB\n",
    "\n",
    "# tested with Python 3.7.0 & Gurobi 9.0"
   ]
  },
  {
   "cell_type": "code",
   "execution_count": 11,
   "metadata": {},
   "outputs": [],
   "source": [
    "# Parametros\n",
    "\n",
    "g = 5\n",
    "\n",
    "# Costos\n",
    "\n",
    "a = [3, 4.05, 4.05, 3.99, 3.88]\n",
    "b = [20, 18.07, 15.55, 19.21, 26.18]\n",
    "c = [100, 98.87, 104,26, 107.21, 95.31]\n",
    "\n",
    "# Emisiones\n",
    "\n",
    "d = [2, 3.82, 5.01, 1.10, 3.55]\n",
    "e = [-5, -4.24, -2.15, -3.99, -6.88]\n",
    "f = [3, 6.09, 5.69, 6.20, 5.57]\n",
    "\n",
    "# Potencias\n",
    "\n",
    "Pmin = [28, 90, 68, 76, 19]\n",
    "Pmax = [206, 284, 189, 266, 53]\n"
   ]
  },
  {
   "cell_type": "code",
   "execution_count": 12,
   "metadata": {},
   "outputs": [
    {
     "name": "stdout",
     "output_type": "stream",
     "text": [
      "Academic license - for non-commercial use only - expires 2021-05-28\n",
      "Using license file C:\\Users\\56982\\gurobi.lic\n"
     ]
    }
   ],
   "source": [
    "model = gp.Model('Generación Térmica ambiental')\n",
    "\n",
    "# Variable de desición\n",
    "\n",
    "potgen = model.addVars(g, vtype=GRB.CONTINUOUS, name=\"potgen\")\n"
   ]
  },
  {
   "cell_type": "code",
   "execution_count": 13,
   "metadata": {},
   "outputs": [],
   "source": [
    "# Restricción de potencias\n",
    "\n",
    "p_min = model.addConstrs((potgen[type] >= Pmin[type])\n",
    "                              for type in range(g))\n",
    "\n",
    "p_max = model.addConstrs((potgen[type] <= Pmax[type])\n",
    "                              for type in range(g))"
   ]
  },
  {
   "cell_type": "code",
   "execution_count": 14,
   "metadata": {
    "scrolled": true
   },
   "outputs": [],
   "source": [
    "# Satisfacer la demanda\n",
    "\n",
    "demanda = model.addConstr(gp.quicksum(potgen[type]  for type in range(g)) >= 400)"
   ]
  },
  {
   "cell_type": "code",
   "execution_count": 15,
   "metadata": {},
   "outputs": [],
   "source": [
    "# Minimizar costos\n",
    "\n",
    "costostot = gp.quicksum((a[type]*potgen[type]*potgen[type]+b[type]*potgen[type]+c[type])+\n",
    "                        0.1*(d[type]*potgen[type]*potgen[type]+e[type]*potgen[type]+f[type])\n",
    "                    for type in range(g))\n",
    "\n",
    "model.setObjective(costostot)"
   ]
  },
  {
   "cell_type": "code",
   "execution_count": 16,
   "metadata": {},
   "outputs": [
    {
     "name": "stdout",
     "output_type": "stream",
     "text": [
      "Gurobi Optimizer version 9.1.1 build v9.1.1rc0 (win64)\n",
      "Thread count: 2 physical cores, 4 logical processors, using up to 4 threads\n",
      "Optimize a model with 11 rows, 5 columns and 15 nonzeros\n",
      "Model fingerprint: 0xcde47ec6\n",
      "Model has 5 quadratic objective terms\n",
      "Coefficient statistics:\n",
      "  Matrix range     [1e+00, 1e+00]\n",
      "  Objective range  [2e+01, 3e+01]\n",
      "  QObjective range [6e+00, 9e+00]\n",
      "  Bounds range     [0e+00, 0e+00]\n",
      "  RHS range        [2e+01, 4e+02]\n",
      "Presolve removed 10 rows and 0 columns\n",
      "Presolve time: 0.02s\n",
      "Presolved: 1 rows, 5 columns, 5 nonzeros\n",
      "Presolved model has 5 quadratic objective terms\n",
      "Ordering time: 0.00s\n",
      "\n",
      "Barrier statistics:\n",
      " AA' NZ     : 0.000e+00\n",
      " Factor NZ  : 1.000e+00\n",
      " Factor Ops : 1.000e+00 (less than 1 second per iteration)\n",
      " Threads    : 1\n",
      "\n",
      "                  Objective                Residual\n",
      "Iter       Primal          Dual         Primal    Dual     Compl     Time\n",
      "   0   2.52772670e+06 -4.06815284e+06  7.95e+02 5.54e+02  1.30e+06     0s\n",
      "   1   3.75111730e+05 -1.40445862e+06  0.00e+00 5.54e-04  1.62e+05     0s\n",
      "   2   2.25331862e+05  6.12131675e+04  0.00e+00 2.42e-05  1.49e+04     0s\n",
      "   3   1.49610645e+05  1.22817986e+05  0.00e+00 9.52e-07  2.44e+03     0s\n",
      "   4   1.43206935e+05  1.36115179e+05  0.00e+00 1.57e-07  6.45e+02     0s\n",
      "   5   1.41456386e+05  1.40072647e+05  0.00e+00 1.62e-13  1.26e+02     0s\n",
      "   6   1.40942854e+05  1.40890820e+05  0.00e+00 0.00e+00  4.73e+00     0s\n",
      "   7   1.40925483e+05  1.40925273e+05  0.00e+00 1.42e-14  1.91e-02     0s\n",
      "   8   1.40925429e+05  1.40925429e+05  0.00e+00 2.84e-14  1.91e-05     0s\n",
      "   9   1.40925429e+05  1.40925429e+05  0.00e+00 9.38e-15  1.91e-08     0s\n",
      "  10   1.40925429e+05  1.40925429e+05  0.00e+00 1.42e-14  1.91e-11     0s\n",
      "\n",
      "Barrier solved model in 10 iterations and 0.05 seconds\n",
      "Optimal objective 1.40925429e+05\n",
      "\n"
     ]
    }
   ],
   "source": [
    "model.write('cgk3_2_PTY.lp')\n",
    "model.optimize()"
   ]
  },
  {
   "cell_type": "code",
   "execution_count": 17,
   "metadata": {},
   "outputs": [
    {
     "data": {
      "text/html": [
       "<div>\n",
       "<style scoped>\n",
       "    .dataframe tbody tr th:only-of-type {\n",
       "        vertical-align: middle;\n",
       "    }\n",
       "\n",
       "    .dataframe tbody tr th {\n",
       "        vertical-align: top;\n",
       "    }\n",
       "\n",
       "    .dataframe thead th {\n",
       "        text-align: right;\n",
       "    }\n",
       "</style>\n",
       "<table border=\"1\" class=\"dataframe\">\n",
       "  <thead>\n",
       "    <tr style=\"text-align: right;\">\n",
       "      <th></th>\n",
       "      <th>0</th>\n",
       "    </tr>\n",
       "  </thead>\n",
       "  <tbody>\n",
       "    <tr>\n",
       "      <th>Potencia0</th>\n",
       "      <td>103.259498</td>\n",
       "    </tr>\n",
       "    <tr>\n",
       "      <th>Potencia1</th>\n",
       "      <td>90.000000</td>\n",
       "    </tr>\n",
       "    <tr>\n",
       "      <th>Potencia2</th>\n",
       "      <td>73.063699</td>\n",
       "    </tr>\n",
       "    <tr>\n",
       "      <th>Potencia3</th>\n",
       "      <td>80.676803</td>\n",
       "    </tr>\n",
       "    <tr>\n",
       "      <th>Potencia4</th>\n",
       "      <td>53.000000</td>\n",
       "    </tr>\n",
       "  </tbody>\n",
       "</table>\n",
       "</div>"
      ],
      "text/plain": [
       "                    0\n",
       "Potencia0  103.259498\n",
       "Potencia1   90.000000\n",
       "Potencia2   73.063699\n",
       "Potencia3   80.676803\n",
       "Potencia4   53.000000"
      ]
     },
     "execution_count": 17,
     "metadata": {},
     "output_type": "execute_result"
    }
   ],
   "source": [
    "rows = [\"Potencia\" + str(t) for t in range(g)]\n",
    "units = pd.DataFrame(columns=range(1), index=rows, data=0.0)\n",
    "\n",
    "for t in range(g):\n",
    "            units.loc[\"Potencia\"+str(t)] = potgen[t].x\n",
    "units"
   ]
  },
  {
   "cell_type": "code",
   "execution_count": 18,
   "metadata": {},
   "outputs": [
    {
     "data": {
      "text/html": [
       "<div>\n",
       "<style scoped>\n",
       "    .dataframe tbody tr th:only-of-type {\n",
       "        vertical-align: middle;\n",
       "    }\n",
       "\n",
       "    .dataframe tbody tr th {\n",
       "        vertical-align: top;\n",
       "    }\n",
       "\n",
       "    .dataframe thead th {\n",
       "        text-align: right;\n",
       "    }\n",
       "</style>\n",
       "<table border=\"1\" class=\"dataframe\">\n",
       "  <thead>\n",
       "    <tr style=\"text-align: right;\">\n",
       "      <th></th>\n",
       "      <th>0</th>\n",
       "    </tr>\n",
       "  </thead>\n",
       "  <tbody>\n",
       "    <tr>\n",
       "      <th>Emisiones0</th>\n",
       "      <td>20811.750332</td>\n",
       "    </tr>\n",
       "    <tr>\n",
       "      <th>Emisiones1</th>\n",
       "      <td>30566.490000</td>\n",
       "    </tr>\n",
       "    <tr>\n",
       "      <th>Emisiones2</th>\n",
       "      <td>26593.506517</td>\n",
       "    </tr>\n",
       "    <tr>\n",
       "      <th>Emisiones3</th>\n",
       "      <td>6843.920797</td>\n",
       "    </tr>\n",
       "    <tr>\n",
       "      <th>Emisiones4</th>\n",
       "      <td>9612.880000</td>\n",
       "    </tr>\n",
       "  </tbody>\n",
       "</table>\n",
       "</div>"
      ],
      "text/plain": [
       "                       0\n",
       "Emisiones0  20811.750332\n",
       "Emisiones1  30566.490000\n",
       "Emisiones2  26593.506517\n",
       "Emisiones3   6843.920797\n",
       "Emisiones4   9612.880000"
      ]
     },
     "execution_count": 18,
     "metadata": {},
     "output_type": "execute_result"
    }
   ],
   "source": [
    "rows = [\"Emisiones\" + str(t) for t in range(g)]\n",
    "units = pd.DataFrame(columns=range(1), index=rows, data=0.0)\n",
    "\n",
    "for t in range(g):\n",
    "            units.loc[\"Emisiones\"+str(t)] = d[t]*potgen[t].x*potgen[t].x+e[t]*potgen[t].x+f[t]\n",
    "units\n",
    "\n",
    "\n"
   ]
  },
  {
   "cell_type": "code",
   "execution_count": null,
   "metadata": {},
   "outputs": [],
   "source": []
  },
  {
   "cell_type": "code",
   "execution_count": null,
   "metadata": {},
   "outputs": [],
   "source": []
  }
 ],
 "metadata": {
  "kernelspec": {
   "display_name": "Python 3",
   "language": "python",
   "name": "python3"
  },
  "language_info": {
   "codemirror_mode": {
    "name": "ipython",
    "version": 3
   },
   "file_extension": ".py",
   "mimetype": "text/x-python",
   "name": "python",
   "nbconvert_exporter": "python",
   "pygments_lexer": "ipython3",
   "version": "3.8.5"
  }
 },
 "nbformat": 4,
 "nbformat_minor": 4
}
